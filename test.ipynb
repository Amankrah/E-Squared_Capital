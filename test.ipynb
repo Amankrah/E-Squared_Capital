{
 "cells": [
  {
   "cell_type": "code",
   "execution_count": 1,
   "metadata": {},
   "outputs": [],
   "source": [
    "import pandas as pd\n",
    "from datetime import datetime"
   ]
  },
  {
   "cell_type": "code",
   "execution_count": 2,
   "metadata": {},
   "outputs": [
    {
     "name": "stdout",
     "output_type": "stream",
     "text": [
      "       Date  Daily PNL  Cumulative PNL  Net Transfer  Account Equity   \n",
      "0  2/5/2024      38.81           53.28           0.0          901.53  \\\n",
      "1  2/4/2024     -63.63           14.47           0.0          862.73   \n",
      "2  2/3/2024     -29.00           78.10           0.0          926.35   \n",
      "3  2/2/2024      66.80          107.11           0.0          955.36   \n",
      "4  2/1/2024      11.24           40.31           0.0          888.56   \n",
      "\n",
      "   Total Debt  Total balance  \n",
      "0     1539.91        2441.45  \n",
      "1     1497.57        2360.29  \n",
      "2     1497.05        2423.40  \n",
      "3     1496.53        2451.89  \n",
      "4     1496.02        2384.58  \n"
     ]
    }
   ],
   "source": [
    "# Load the CSV file\n",
    "file_path = 'trading_data.csv'\n",
    "data = pd.read_csv(file_path)\n",
    "\n",
    "# Display the first few rows of the dataframe\n",
    "print(data.head())"
   ]
  },
  {
   "cell_type": "code",
   "execution_count": 3,
   "metadata": {},
   "outputs": [
    {
     "data": {
      "text/html": [
       "<div>\n",
       "<style scoped>\n",
       "    .dataframe tbody tr th:only-of-type {\n",
       "        vertical-align: middle;\n",
       "    }\n",
       "\n",
       "    .dataframe tbody tr th {\n",
       "        vertical-align: top;\n",
       "    }\n",
       "\n",
       "    .dataframe thead th {\n",
       "        text-align: right;\n",
       "    }\n",
       "</style>\n",
       "<table border=\"1\" class=\"dataframe\">\n",
       "  <thead>\n",
       "    <tr style=\"text-align: right;\">\n",
       "      <th></th>\n",
       "      <th>Date</th>\n",
       "      <th>Daily PNL</th>\n",
       "      <th>Cumulative PNL</th>\n",
       "      <th>Net Transfer</th>\n",
       "      <th>Account Equity</th>\n",
       "      <th>Total Debt</th>\n",
       "      <th>Total balance</th>\n",
       "    </tr>\n",
       "  </thead>\n",
       "  <tbody>\n",
       "    <tr>\n",
       "      <th>0</th>\n",
       "      <td>2024-02-05</td>\n",
       "      <td>38.81</td>\n",
       "      <td>53.28</td>\n",
       "      <td>0.0</td>\n",
       "      <td>901.53</td>\n",
       "      <td>1539.91</td>\n",
       "      <td>2441.45</td>\n",
       "    </tr>\n",
       "    <tr>\n",
       "      <th>1</th>\n",
       "      <td>2024-02-04</td>\n",
       "      <td>-63.63</td>\n",
       "      <td>14.47</td>\n",
       "      <td>0.0</td>\n",
       "      <td>862.73</td>\n",
       "      <td>1497.57</td>\n",
       "      <td>2360.29</td>\n",
       "    </tr>\n",
       "    <tr>\n",
       "      <th>2</th>\n",
       "      <td>2024-02-03</td>\n",
       "      <td>-29.00</td>\n",
       "      <td>78.10</td>\n",
       "      <td>0.0</td>\n",
       "      <td>926.35</td>\n",
       "      <td>1497.05</td>\n",
       "      <td>2423.40</td>\n",
       "    </tr>\n",
       "    <tr>\n",
       "      <th>3</th>\n",
       "      <td>2024-02-02</td>\n",
       "      <td>66.80</td>\n",
       "      <td>107.11</td>\n",
       "      <td>0.0</td>\n",
       "      <td>955.36</td>\n",
       "      <td>1496.53</td>\n",
       "      <td>2451.89</td>\n",
       "    </tr>\n",
       "    <tr>\n",
       "      <th>4</th>\n",
       "      <td>2024-02-01</td>\n",
       "      <td>11.24</td>\n",
       "      <td>40.31</td>\n",
       "      <td>0.0</td>\n",
       "      <td>888.56</td>\n",
       "      <td>1496.02</td>\n",
       "      <td>2384.58</td>\n",
       "    </tr>\n",
       "  </tbody>\n",
       "</table>\n",
       "</div>"
      ],
      "text/plain": [
       "        Date  Daily PNL  Cumulative PNL  Net Transfer  Account Equity   \n",
       "0 2024-02-05      38.81           53.28           0.0          901.53  \\\n",
       "1 2024-02-04     -63.63           14.47           0.0          862.73   \n",
       "2 2024-02-03     -29.00           78.10           0.0          926.35   \n",
       "3 2024-02-02      66.80          107.11           0.0          955.36   \n",
       "4 2024-02-01      11.24           40.31           0.0          888.56   \n",
       "\n",
       "   Total Debt  Total balance  \n",
       "0     1539.91        2441.45  \n",
       "1     1497.57        2360.29  \n",
       "2     1497.05        2423.40  \n",
       "3     1496.53        2451.89  \n",
       "4     1496.02        2384.58  "
      ]
     },
     "execution_count": 3,
     "metadata": {},
     "output_type": "execute_result"
    }
   ],
   "source": [
    "# Convert 'Date' column to datetime\n",
    "data['Date'] = pd.to_datetime(data['Date'], format='%m/%d/%Y')\n",
    "\n",
    "data.head()"
   ]
  },
  {
   "cell_type": "code",
   "execution_count": 5,
   "metadata": {},
   "outputs": [
    {
     "data": {
      "text/plain": [
       "61"
      ]
     },
     "execution_count": 5,
     "metadata": {},
     "output_type": "execute_result"
    }
   ],
   "source": [
    "# Calculate the number of days in the data for annualization purposes\n",
    "days_in_data = (data['Date'].iloc[-1] - data['Date'].iloc[0]).days\n",
    "\n",
    "days_in_data"
   ]
  },
  {
   "cell_type": "code",
   "execution_count": 7,
   "metadata": {},
   "outputs": [
    {
     "data": {
      "text/plain": [
       "(848.2500000000001, 901.53, 0.06281167108753298)"
      ]
     },
     "execution_count": 7,
     "metadata": {},
     "output_type": "execute_result"
    }
   ],
   "source": [
    "# Calculate Cumulative Return\n",
    "initial_equity = data['Net Transfer'].sum()\n",
    "final_equity = data['Account Equity'].iloc[-1]\n",
    "cumulative_return = (final_equity - initial_equity) / initial_equity\n",
    "\n",
    "initial_equity, final_equity, cumulative_return"
   ]
  },
  {
   "cell_type": "code",
   "execution_count": 8,
   "metadata": {},
   "outputs": [
    {
     "data": {
      "text/plain": [
       "0.43980666392058954"
      ]
     },
     "execution_count": 8,
     "metadata": {},
     "output_type": "execute_result"
    }
   ],
   "source": [
    "# Annualize the Cumulative Return (Assuming 365 crypto trading days in a year)\n",
    "annualized_return = ((1 + cumulative_return) ** (365/days_in_data)) - 1\n",
    "\n",
    "annualized_return"
   ]
  },
  {
   "cell_type": "code",
   "execution_count": 14,
   "metadata": {},
   "outputs": [
    {
     "data": {
      "text/plain": [
       "-0.4062912904646553"
      ]
     },
     "execution_count": 14,
     "metadata": {},
     "output_type": "execute_result"
    }
   ],
   "source": [
    "# Calculate Drawdown\n",
    "# Compute the running maximum\n",
    "running_max = data['Account Equity'].cummax()\n",
    "# Compute the drawdown\n",
    "drawdown = (data['Account Equity'] - running_max) / running_max\n",
    "# Find the maximum drawdown\n",
    "max_drawdown = drawdown.min()\n",
    "\n",
    "max_drawdown"
   ]
  },
  {
   "cell_type": "code",
   "execution_count": 15,
   "metadata": {},
   "outputs": [
    {
     "data": {
      "text/plain": [
       "(0.06281167108753298, 0.43980666392058954, -0.4062912904646553)"
      ]
     },
     "execution_count": 15,
     "metadata": {},
     "output_type": "execute_result"
    }
   ],
   "source": [
    "cumulative_return, annualized_return, max_drawdown"
   ]
  }
 ],
 "metadata": {
  "kernelspec": {
   "display_name": "Python 3",
   "language": "python",
   "name": "python3"
  },
  "language_info": {
   "codemirror_mode": {
    "name": "ipython",
    "version": 3
   },
   "file_extension": ".py",
   "mimetype": "text/x-python",
   "name": "python",
   "nbconvert_exporter": "python",
   "pygments_lexer": "ipython3",
   "version": "3.11.2"
  }
 },
 "nbformat": 4,
 "nbformat_minor": 2
}
